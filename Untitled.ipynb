{
 "cells": [
  {
   "cell_type": "code",
   "execution_count": 1,
   "id": "15cdb05e-6336-49bc-8b50-d6c1dc0294e9",
   "metadata": {},
   "outputs": [],
   "source": [
    "import cv2\n",
    "import face_recognition\n",
    "def resize_image(image_path):\n",
    "    image = cv2.imread(image_path)\n",
    "    \n",
    "    # Calculate the aspect ratio\n",
    "    aspect_ratio = image.shape[0] / image.shape[1]  # height/width\n",
    "    \n",
    "    # Set the desired width\n",
    "    new_width = 512\n",
    "    \n",
    "    # Calculate the new height based on the aspect ratio\n",
    "    new_height = int(aspect_ratio * new_width)\n",
    "    \n",
    "    # Resize the image\n",
    "    return cv2.resize(image, (new_width, new_height))\n",
    "    \n",
    "\n",
    "def find_face_encodings(image_path):\n",
    "    # reading image\n",
    "    image = resize_image(image_path)\n",
    "    # get face encodings from the image\n",
    "    face_enc = face_recognition.face_encodings(image)\n",
    "    # return face encodings\n",
    "    return face_enc"
   ]
  },
  {
   "cell_type": "code",
   "execution_count": 16,
   "id": "f506b033-b04e-45c8-a41d-c13fc01a33c7",
   "metadata": {},
   "outputs": [],
   "source": [
    "# getting face encodings for first image\n",
    "image_1 = find_face_encodings(\"face.jpg\")[0]\n",
    "# getting face encodings for second image\n",
    "image_2  = find_face_encodings(\"face2.jpg\")[0]\n",
    "image_3 = find_face_encodings('3.jpg')[0]"
   ]
  },
  {
   "cell_type": "code",
   "execution_count": 58,
   "id": "0fdac65d-8170-4ee0-a633-dc86a890ca05",
   "metadata": {},
   "outputs": [],
   "source": [
    "is_same = face_recognition.compare_faces([image_1], image_2)[0]"
   ]
  },
  {
   "cell_type": "code",
   "execution_count": 22,
   "id": "b66279aa-d8ce-4f86-934b-b5530d072d7e",
   "metadata": {},
   "outputs": [
    {
     "data": {
      "text/plain": [
       "[0.5074093809064236, 0.6985474850405862]"
      ]
     },
     "execution_count": 22,
     "metadata": {},
     "output_type": "execute_result"
    }
   ],
   "source": [
    "list(face_recognition.face_distance([image_1,image_3], image_2))"
   ]
  },
  {
   "cell_type": "code",
   "execution_count": 28,
   "id": "bf3660ab-2a03-40b6-a16e-804cac575a0a",
   "metadata": {},
   "outputs": [],
   "source": [
    "import numpy as np\n",
    "\n",
    "def face_distance(face_encodings, faces_to_compare):\n",
    "    # Converting the input to numpy arrays if they are not already\n",
    "    face_encodings = np.array(face_encodings)\n",
    "    faces_to_compare = np.array(faces_to_compare)\n",
    "    \n",
    "    if len(face_encodings) == 0 or len(faces_to_compare) == 0:\n",
    "        return np.empty((0, 0))\n",
    "    \n",
    "    # Adding an extra dimension to leverage broadcasting\n",
    "    face_encodings = face_encodings[:, np.newaxis]\n",
    "    \n",
    "    # Calculating the norm along the last axis after broadcasting subtraction\n",
    "    distances = np.linalg.norm(face_encodings - faces_to_compare, axis=-1)\n",
    "\n",
    "    return distances\n"
   ]
  },
  {
   "cell_type": "code",
   "execution_count": 55,
   "id": "0f509c74-5267-4c5e-81b0-e29fe1f7ca9a",
   "metadata": {},
   "outputs": [
    {
     "data": {
      "text/plain": [
       "True"
      ]
     },
     "execution_count": 55,
     "metadata": {},
     "output_type": "execute_result"
    }
   ],
   "source": [
    "np.array([True])  in list(face_distance([image_1,image_2,image_3], [image_3]) <= 0.55 )"
   ]
  },
  {
   "cell_type": "code",
   "execution_count": 52,
   "id": "10a6a239-f511-4c41-a87d-877f411dea83",
   "metadata": {},
   "outputs": [
    {
     "data": {
      "text/plain": [
       "array([[False],\n",
       "       [False],\n",
       "       [ True]])"
      ]
     },
     "execution_count": 52,
     "metadata": {},
     "output_type": "execute_result"
    }
   ],
   "source": [
    "face_distance([image_1,image_2,image_3], [image_3]) <= 0.55 "
   ]
  },
  {
   "cell_type": "code",
   "execution_count": 1,
   "id": "cbe5249f-0d1d-464e-b70c-99aefc2fb643",
   "metadata": {},
   "outputs": [],
   "source": [
    "import requests"
   ]
  },
  {
   "cell_type": "code",
   "execution_count": 4,
   "id": "6c4af10e-7e98-425a-ae43-98cfed939fc0",
   "metadata": {},
   "outputs": [],
   "source": [
    "response = requests.get(\"https://drive.google.com/drive/folders/1O23feYwKitsA9puE3XHX7kY1LwAIvncB?usp=drive_link\")"
   ]
  },
  {
   "cell_type": "code",
   "execution_count": 11,
   "id": "0040a8de-fa59-401e-9da6-70df29043f15",
   "metadata": {},
   "outputs": [],
   "source": [
    "import gdown"
   ]
  },
  {
   "cell_type": "code",
   "execution_count": null,
   "id": "06c7e697-2ddc-4f68-b478-563908fa5a9b",
   "metadata": {},
   "outputs": [],
   "source": [
    "import os\n",
    "import zipfile\n",
    "import gdown\n",
    "\n",
    "# Specify the path where you expect the folder to be\n",
    "subfolder_path = \"path_to_your_subfolder\"\n",
    "folder_name = \"your_folder_name\"\n",
    "folder_path = os.path.join(subfolder_path, folder_name)\n",
    "\n",
    "# Check if the folder exists\n",
    "if not os.path.exists(folder_path):\n",
    "    print(f\"{folder_name} does not exist. Downloading from Google Drive...\")\n",
    "    \n",
    "    # URL of the shared zip file on Google Drive\n",
    "    url = 'https://drive.google.com/uc?id=YOUR_GOOGLE_DRIVE_FILE_ID'\n",
    "    output = folder_path + '.zip'  # temporary zip file will be downloaded here\n",
    "    \n",
    "    # Download and unzip\n",
    "    gdown.download(url, output, quiet=False)\n",
    "    \n",
    "    with zipfile.ZipFile(output, 'r') as zip_ref:\n",
    "        zip_ref.extractall(subfolder_path)\n",
    "    \n",
    "    # Remove the zip file after extracting its content\n",
    "    os.remove(output)\n"
   ]
  },
  {
   "cell_type": "code",
   "execution_count": 2,
   "id": "2daefea8-aa0d-409a-b424-7b596ae75a38",
   "metadata": {},
   "outputs": [],
   "source": [
    "# This would be the link to the zip file on Google Drive.\n",
    "    file_id = \"1JGESpeciguUaKD902syAb15-qlFGLI5e\"\n",
    "    url = f\"https://drive.google.com/uc?id={file_id}\"\n",
    "    zip_file_path = folder_path + \".zip\"\n",
    "    gdown.download(url, zip_file_path, quiet=False) n"
   ]
  },
  {
   "cell_type": "code",
   "execution_count": 3,
   "id": "e2b0de4b-5b8e-48cf-8b1a-a4de36edb5be",
   "metadata": {},
   "outputs": [
    {
     "name": "stderr",
     "output_type": "stream",
     "text": [
      "Downloading...\n",
      "From (uriginal): https://drive.google.com/uc?id=1JGESpeciguUaKD902syAb15-qlFGLI5e\n",
      "From (redirected): https://drive.google.com/uc?id=1JGESpeciguUaKD902syAb15-qlFGLI5e&confirm=t&uuid=1371bbe4-4eac-43ad-b155-05cc342e292d\n",
      "To: C:\\Users\\user1\\Documents\\Work\\AIBook\\test.zip\n",
      "100%|██████████████████████████████████████████████████████████████████████████████████████████| 1.43G/1.43G [00:38<00:00, 36.8MB/s]\n"
     ]
    },
    {
     "data": {
      "text/plain": [
       "'test.zip'"
      ]
     },
     "execution_count": 3,
     "metadata": {},
     "output_type": "execute_result"
    }
   ],
   "source": [
    "gdown.download(id='1JGESpeciguUaKD902syAb15-qlFGLI5e', output=output, quiet=False)"
   ]
  },
  {
   "cell_type": "code",
   "execution_count": 4,
   "id": "38d9e00e-489b-4866-b425-6131d3a7f839",
   "metadata": {},
   "outputs": [],
   "source": [
    "import zipfile\n"
   ]
  },
  {
   "cell_type": "code",
   "execution_count": null,
   "id": "784181a9-975e-4c68-8536-e762e810ca1c",
   "metadata": {},
   "outputs": [],
   "source": []
  }
 ],
 "metadata": {
  "kernelspec": {
   "display_name": "Python 3 (ipykernel)",
   "language": "python",
   "name": "python3"
  },
  "language_info": {
   "codemirror_mode": {
    "name": "ipython",
    "version": 3
   },
   "file_extension": ".py",
   "mimetype": "text/x-python",
   "name": "python",
   "nbconvert_exporter": "python",
   "pygments_lexer": "ipython3",
   "version": "3.10.9"
  }
 },
 "nbformat": 4,
 "nbformat_minor": 5
}
